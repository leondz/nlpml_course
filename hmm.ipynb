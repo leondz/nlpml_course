{
  "nbformat": 4,
  "nbformat_minor": 0,
  "metadata": {
    "colab": {
      "name": "hmm.ipynb",
      "version": "0.3.2",
      "provenance": [],
      "collapsed_sections": [],
      "include_colab_link": true
    },
    "kernelspec": {
      "name": "python3",
      "display_name": "Python 3"
    }
  },
  "cells": [
    {
      "cell_type": "markdown",
      "metadata": {
        "id": "view-in-github",
        "colab_type": "text"
      },
      "source": [
        "<a href=\"https://colab.research.google.com/github/leondz/nlpml_course/blob/master/hmm.ipynb\" target=\"_parent\"><img src=\"https://colab.research.google.com/assets/colab-badge.svg\" alt=\"Open In Colab\"/></a>"
      ]
    },
    {
      "metadata": {
        "id": "_UepOQ-qa5Z-",
        "colab_type": "code",
        "colab": {
          "base_uri": "https://localhost:8080/",
          "height": 84
        },
        "outputId": "19f54abd-0375-4791-9f51-4ce82ac8ba8d"
      },
      "cell_type": "code",
      "source": [
        "import nltk\n",
        "nltk.download('brown')\n",
        "nltk.download('universal_tagset')\n",
        "from nltk.corpus import brown"
      ],
      "execution_count": 7,
      "outputs": [
        {
          "output_type": "stream",
          "text": [
            "[nltk_data] Downloading package brown to /root/nltk_data...\n",
            "[nltk_data]   Package brown is already up-to-date!\n",
            "[nltk_data] Downloading package universal_tagset to /root/nltk_data...\n",
            "[nltk_data]   Unzipping taggers/universal_tagset.zip.\n"
          ],
          "name": "stdout"
        }
      ]
    },
    {
      "metadata": {
        "id": "hw3y2xo-WoKN",
        "colab_type": "code",
        "colab": {
          "base_uri": "https://localhost:8080/",
          "height": 54
        },
        "outputId": "3144fd76-54f8-434e-88fd-3379e6daa507"
      },
      "cell_type": "code",
      "source": [
        "tagged_words = brown.tagged_words(tagset='universal')\n",
        "print(tagged_words[:10])"
      ],
      "execution_count": 19,
      "outputs": [
        {
          "output_type": "stream",
          "text": [
            "[('The', 'DET'), ('Fulton', 'NOUN'), ('County', 'NOUN'), ('Grand', 'ADJ'), ('Jury', 'NOUN'), ('said', 'VERB'), ('Friday', 'NOUN'), ('an', 'DET'), ('investigation', 'NOUN'), ('of', 'ADP')]\n"
          ],
          "name": "stdout"
        }
      ]
    },
    {
      "metadata": {
        "id": "xGrGwn1vWuzc",
        "colab_type": "code",
        "colab": {}
      },
      "cell_type": "code",
      "source": [
        "from collections import defaultdict\n",
        "tags = defaultdict(int)\n",
        "tag_tag = defaultdict(int)\n",
        "word_tag = defaultdict(int)\n",
        "prev_tag = '*'\n",
        "\n",
        "for word, tag in tagged_words:\n",
        "  tags[tag] += 1\n",
        "  tag_tag[' '.join((prev_tag, tag))] += 1\n",
        "  word_tag[' '.join((word, tag))] += 1\n",
        "  prev_tag = tag\n"
      ],
      "execution_count": 0,
      "outputs": []
    },
    {
      "metadata": {
        "id": "-jt_exxGWxMF",
        "colab_type": "code",
        "colab": {
          "base_uri": "https://localhost:8080/",
          "height": 84
        },
        "outputId": "8c3d59c9-35d4-4023-ccb5-9e9730fa9e94"
      },
      "cell_type": "code",
      "source": [
        "# how often do we see determiner before noun? how about determiner?\n",
        "print(tag_tag['DET NOUN'])\n",
        "print(tags['DET'])\n",
        "\n",
        "# what's the chance of seeing a NOUN after a DET?\n",
        "print(tag_tag['DET NOUN'] / tags['DET'])\n",
        "\n",
        "# what's the chance of seeing The when we have a DET?\n",
        "print(word_tag['The DET'] / tags['DET'])"
      ],
      "execution_count": 26,
      "outputs": [
        {
          "output_type": "stream",
          "text": [
            "85845\n",
            "137019\n",
            "0.6265189499266525\n",
            "0.052970755880571305\n"
          ],
          "name": "stdout"
        }
      ]
    },
    {
      "metadata": {
        "id": "1nFRH9OLYzmB",
        "colab_type": "code",
        "colab": {}
      },
      "cell_type": "code",
      "source": [
        "# example from the lecture:\n",
        "# to/TO race/NOUN tomorrow/ADV\n",
        "# to/TO race/VERB tomorrow/ADV\n",
        "# - what are the calculations? write them here."
      ],
      "execution_count": 0,
      "outputs": []
    }
  ]
}